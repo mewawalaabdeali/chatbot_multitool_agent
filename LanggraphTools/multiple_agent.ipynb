{
 "cells": [
  {
   "cell_type": "code",
   "execution_count": 1,
   "id": "f6bb01f5",
   "metadata": {},
   "outputs": [],
   "source": [
    "from langchain_community.tools import ArxivQueryRun, WikipediaQueryRun\n",
    "from langchain_community.utilities import WikipediaAPIWrapper, ArxivAPIWrapper"
   ]
  },
  {
   "cell_type": "code",
   "execution_count": 2,
   "id": "e6d273cf",
   "metadata": {},
   "outputs": [
    {
     "name": "stdout",
     "output_type": "stream",
     "text": [
      "arxiv\n"
     ]
    }
   ],
   "source": [
    "api_wrapper_arxiv = ArxivAPIWrapper(top_k_results=2, doc_content_chars_max=500)\n",
    "arxiv = ArxivQueryRun(api_wrapper=api_wrapper_arxiv, description=\"Query arxiv papers\")\n",
    "print(arxiv.name)"
   ]
  },
  {
   "cell_type": "code",
   "execution_count": 3,
   "id": "5ea0d0e7",
   "metadata": {},
   "outputs": [
    {
     "data": {
      "text/plain": [
       "\"Published: 2024-07-22\\nTitle: Attention Is All You Need But You Don't Need All Of It For Inference of Large Language Models\\nAuthors: Georgy Tyukin, Gbetondji J-S Dovonon, Jean Kaddour, Pasquale Minervini\\nSummary: The inference demand for LLMs has skyrocketed in recent months, and serving\\nmodels with low latencies remains challenging due to the quadratic input length\\ncomplexity of the attention layers. In this work, we investigate the effect of\\ndropping MLP and attention layers at inference time o\""
      ]
     },
     "execution_count": 3,
     "metadata": {},
     "output_type": "execute_result"
    }
   ],
   "source": [
    "arxiv.invoke(\"Attention is all you need\")"
   ]
  },
  {
   "cell_type": "code",
   "execution_count": 4,
   "id": "687d332b",
   "metadata": {},
   "outputs": [
    {
     "data": {
      "text/plain": [
       "'wikipedia'"
      ]
     },
     "execution_count": 4,
     "metadata": {},
     "output_type": "execute_result"
    }
   ],
   "source": [
    "api_wrapper_arxiv = WikipediaAPIWrapper(top_k_results=1, doc_content_chars_max=500)\n",
    "wiki = WikipediaQueryRun(api_wrapper=api_wrapper_arxiv)\n",
    "wiki.name"
   ]
  },
  {
   "cell_type": "code",
   "execution_count": 7,
   "id": "fe591255",
   "metadata": {},
   "outputs": [],
   "source": [
    "from dotenv import load_dotenv\n",
    "load_dotenv()\n",
    "\n",
    "import os\n",
    "\n",
    "os.environ[\"TAVILY_API_KEY\"] = os.getenv(\"TAVILY_API_KEY\")\n",
    "os.environ[\"GROQ_API_KEY\"] = os.getenv(\"GROQ_API_KEY\")"
   ]
  },
  {
   "cell_type": "code",
   "execution_count": 8,
   "id": "25c4c43e",
   "metadata": {},
   "outputs": [
    {
     "name": "stderr",
     "output_type": "stream",
     "text": [
      "C:\\Users\\asus\\AppData\\Local\\Temp\\ipykernel_34636\\3199068605.py:3: LangChainDeprecationWarning: The class `TavilySearchResults` was deprecated in LangChain 0.3.25 and will be removed in 1.0. An updated version of the class exists in the :class:`~langchain-tavily package and should be used instead. To use it run `pip install -U :class:`~langchain-tavily` and import as `from :class:`~langchain_tavily import TavilySearch``.\n",
      "  tavily = TavilySearchResults()\n"
     ]
    }
   ],
   "source": [
    "from langchain_community.tools import TavilySearchResults\n",
    "\n",
    "tavily = TavilySearchResults()"
   ]
  },
  {
   "cell_type": "code",
   "execution_count": 9,
   "id": "386b849d",
   "metadata": {},
   "outputs": [
    {
     "data": {
      "text/plain": [
       "[{'title': 'AI News & Artificial Intelligence - TechCrunch',\n",
       "  'url': 'https://techcrunch.com/category/artificial-intelligence/',\n",
       "  'content': '### [Four months after a $3B valuation, Harvey AI grows to $5B](https://techcrunch.com/2025/06/23/four-months-after-a-3b-valuation-harvey-ai-grows-to-5b/)\\n\\n![Amazon event](https://techcrunch.com/wp-content/uploads/2025/02/1000002054.jpg?w=499)\\n\\n### [Over a million people now have access to the gen-AI powered Alexa+](https://techcrunch.com/2025/06/23/over-a-million-people-now-have-access-to-the-gen-ai-powered-alexa/) [...] ### [Google adds AI features to Chromebook Plus devices](https://techcrunch.com/2025/06/23/google-adds-ai-features-to-chromebook-plus-devices/)\\n\\n![Sam Altman and Jony Ive](https://techcrunch.com/wp-content/uploads/2025/05/portrait.jpg?w=500)\\n\\n### [OpenAI pulls promotional materials around Jony Ive deal due to court order](https://techcrunch.com/2025/06/22/openai-pulls-promotional-materials-around-jony-ive-deal/) [...] ### [Google rolls out new Gemini model that can run on robots locally](https://techcrunch.com/2025/06/24/google-rolls-out-new-gemini-model-that-can-run-on-robots-locally/)\\n\\n![Eventual, fundraising, data infrastructure, data processing](https://techcrunch.com/wp-content/uploads/2025/06/DSC01886.jpg?w=619)\\n\\n### [How a data processing problem at Lyft became the basis for Eventual](https://techcrunch.com/2025/06/24/how-a-data-processing-problem-at-lyft-became-the-basis-for-eventual/)',\n",
       "  'score': 0.7036111},\n",
       " {'title': 'Artificial Intelligence News - ScienceDaily',\n",
       "  'url': 'https://www.sciencedaily.com/news/computers_math/artificial_intelligence/',\n",
       "  'content': '![ScienceDaily](/images/sd-logo.png)\\n\\n# Artificial Intelligence News\\n\\n## Top Headlines\\n\\n## Latest Headlines\\n\\n## Earlier Headlines\\n\\n### Wednesday, May 21, 2025\\n\\n### Monday, May 19, 2025\\n\\n### Thursday, May 15, 2025\\n\\n### Wednesday, May 14, 2025\\n\\n### Tuesday, May 13, 2025\\n\\n### Monday, May 12, 2025\\n\\n### Thursday, May 8, 2025\\n\\n### Wednesday, May 7, 2025\\n\\n### Tuesday, May 6, 2025\\n\\n### Monday, May 5, 2025\\n\\n### Thursday, May 1, 2025\\n\\n### Wednesday, April 30, 2025\\n\\n### Monday, April 28, 2025 [...] ### Friday, April 25, 2025\\n\\n### Thursday, April 24, 2025\\n\\n### Wednesday, April 23, 2025\\n\\n### Tuesday, April 22, 2025\\n\\n### Monday, April 21, 2025\\n\\n### Wednesday, April 16, 2025\\n\\n### Tuesday, April 15, 2025\\n\\n### Monday, April 14, 2025\\n\\n### Thursday, April 10, 2025\\n\\n### Wednesday, April 9, 2025\\n\\n### Tuesday, April 8, 2025\\n\\n### Monday, April 7, 2025\\n\\n### Friday, April 4, 2025\\n\\n### Thursday, April 3, 2025\\n\\n### Wednesday, April 2, 2025\\n\\n### Monday, March 31, 2025\\n\\n### Friday, March 28, 2025',\n",
       "  'score': 0.70336664},\n",
       " {'title': 'AI News | Latest AI News, Analysis & Events',\n",
       "  'url': 'https://www.artificialintelligence-news.com/',\n",
       "  'content': 'AI News reports on the latest artificial intelligence news and insights. Explore industry trends from the frontline of AI.',\n",
       "  'score': 0.6383174},\n",
       " {'title': 'Artificial Intelligence - Latest AI News and Analysis - WSJ.com',\n",
       "  'url': 'https://www.wsj.com/tech/ai?gaa_at=eafs&gaa_n=ASWzDAjSflzOZa9FRYcxkoFbAEcDa94g6oZFwoGG5GDRhjOP1cxJTKyFTtnM&gaa_ts=685ae9b6&gaa_sig=aRmO2E7qn5QcITnphu49yaGFOWGL9LfWtFrguh6KTuJN6YOIXumj7HhWcPFREnSWYFMlfC3wPRkuWY70j82bvg%3D%3D',\n",
       "  'content': 'The latest artificial intelligence news coverage focusing on the technology, tools and the companies building AI technology.',\n",
       "  'score': 0.63098115},\n",
       " {'title': 'AI News | Latest Headlines and Developments | Reuters',\n",
       "  'url': 'https://www.reuters.com/technology/artificial-intelligence/',\n",
       "  'content': '![Artificial Intelligence silicon chip with Reuters logo](https://www.reuters.com/resizer/v2/GSJJBHD7P5CDRODH727CQTOFUU.jpg?auth=943259dbe714440e27bb4882335b2f9eaddc87e4324f635b849474cfc8b61339&height=480&width=480&quality=80&smart=true)\\n\\nEvent\\n\\n29-30 Sep 2025 · London, UK [...] ![Reuters Events Logo](https://www.reuters.com/resizer/v2/2MUGKQKIJZBRFAU2BGHBDSHJUM.png?auth=90f94c781dedbcfa2eef25852f00fe8491e754277b34e723f798e8c1e78ce3c7&width=480&quality=80)\\n\\nEvent\\n\\n28-29 Apr 2025 · New York, USA\\n\\n![Artificial Intelligence silicon chip with Reuters logo](https://www.reuters.com/resizer/v2/GSJJBHD7P5CDRODH727CQTOFUU.jpg?auth=943259dbe714440e27bb4882335b2f9eaddc87e4324f635b849474cfc8b61339&height=480&width=480&quality=80&smart=true)\\n\\nEvent\\n\\n15-16 Jul 2025 · San Jose, USA [...] ![Artificial Intelligence Chip with Reuters logo](https://www.reuters.com/resizer/v2/GKT2AROG7VC4PGQUWJ4NHDDUSQ.jpg?auth=fa1702fc494037c9d1294fe9384981105e099c5b3f43b67f26d3b6e8ccc0f367&height=480&width=480&quality=80&smart=true)\\n\\nEvent\\n\\n17 Sep 2025 · Singapore, USA',\n",
       "  'score': 0.5954225}]"
      ]
     },
     "execution_count": 9,
     "metadata": {},
     "output_type": "execute_result"
    }
   ],
   "source": [
    "tavily.invoke(\"Provide me the recent AI news\")"
   ]
  },
  {
   "cell_type": "code",
   "execution_count": 16,
   "id": "b6645edf",
   "metadata": {},
   "outputs": [],
   "source": [
    "tools = [arxiv, wiki, tavily]"
   ]
  },
  {
   "cell_type": "code",
   "execution_count": 17,
   "id": "b5e0b2ba",
   "metadata": {},
   "outputs": [],
   "source": [
    "from langchain_groq import ChatGroq\n",
    "\n",
    "llm = ChatGroq(model = \"qwen-qwq-32b\")\n"
   ]
  },
  {
   "cell_type": "code",
   "execution_count": 18,
   "id": "aa5267a4",
   "metadata": {},
   "outputs": [
    {
     "data": {
      "text/plain": [
       "AIMessage(content='\\n<think>\\nOkay, the user is asking, \"What is AI?\" I need to explain it in a clear and simple way. Let me start by breaking down the term: AI stands for Artificial Intelligence. But what does that really mean?\\n\\nHmm, maybe I should define AI as a branch of computer science. Yeah, that\\'s right. It\\'s focused on creating machines that can perform tasks requiring human-like intelligence. But I should give examples to make it relatable. Like, things such as problem-solving, learning, perception, and decision-making.\\n\\nWait, I should mention the two main types of AI: general and narrow. General AI is like the stuff in movies, where machines can handle any task a human can. But that\\'s still theoretical. Narrow AI is what we actually have now, like voice assistants and recommendation systems. That distinction is important to avoid confusion.\\n\\nAlso, maybe touch on how AI works. Machine learning and deep learning are key here. Machine learning is when machines learn from data, right? Deep learning uses neural networks to model data, which helps in recognizing patterns. Examples like image recognition or NLP (Natural Language Processing) come to mind. Oh, and chatbots like me use these techniques.\\n\\nApplications are everywhere, so listing some sectors would help. Healthcare for diagnostics, finance for fraud detection, transportation with self-driving cars. These examples make the concept tangible.\\n\\nI should also address the goals of AI: enhancing productivity, solving complex problems, and enabling automation. But maybe add a note about ethical considerations, like privacy and job displacement. It\\'s important to give a balanced view.\\n\\nWait, the user might be a beginner, so I should avoid jargon as much as possible. Keep sentences straightforward. Let me structure this step by step: definition, types, how it works, applications, and then goals/ethics. That flow makes sense.\\n\\nHmm, maybe start with a simple definition, then expand. Also, clarify that AI isn\\'t just one thing—there\\'s a spectrum from simple rule-based systems to more advanced learning algorithms. That way, the user understands the complexity.\\n\\nOh, and mention specific technologies like neural networks, algorithms, and data-driven approaches. But explain them briefly. Don\\'t go too deep into technical details, just enough to grasp the concept.\\n\\nI should also highlight the difference between narrow AI and the hypothetical general AI. People might confuse them, especially with movies and media. Emphasize that current AI is narrow with specific tasks.\\n\\nIncluding real-world examples will help. Like, when they use Google Maps for directions, that\\'s AI. Or Netflix recommending shows. These everyday uses make it relatable.\\n\\nWait, should I mention anything about the history? Maybe a brief mention that it began in the 1950s, but maybe that\\'s too much for a basic explanation. Probably better to keep it focused on the present and applications.\\n\\nEthical considerations are important. Maybe a short paragraph on the need for responsible development to prevent misuse. Privacy issues with data, job displacement concerns, and maybe biases in algorithms. But keep it concise.\\n\\nOkay, putting it all together: start with the definition, types, how it works, applications, goals, and ethics. Make sure each section is clear and not too technical. Use simple language. Avoid acronyms without explaining them first. Alright, let me draft that.\\n</think>\\n\\n**Artificial Intelligence (AI)** refers to the simulation of human intelligence in machines, enabling them to perform tasks that typically require human-like reasoning, learning, and decision-making. Here\\'s a breakdown:\\n\\n---\\n\\n### **1. What is AI?**\\n- **Definition**: AI is a branch of computer science focused on creating systems that can mimic human cognitive functions, such as problem-solving, learning, perception, and logical reasoning.\\n- **Goal**: To build machines that can perform tasks that usually require human intelligence, often faster, more accurately, or at a larger scale.\\n\\n---\\n\\n### **2. Types of AI**\\nAI is categorized into two main types:\\n- **Narrow (Weak) AI**:  \\n  - Designed for **specific tasks** (e.g., voice assistants like Siri, recommendation algorithms on Netflix, or self-driving car systems).  \\n  - *Current reality*: Most AI today falls into this category; it excels at narrow, defined tasks but lacks generalized intelligence.  \\n\\n- **General (Strong) AI**:  \\n  - Hypothetical AI that could perform **any intellectual task a human can**, including creativity, emotional understanding, and abstract thinking.  \\n  - *Status*: Still theoretical; not yet achieved.  \\n\\n---\\n\\n### **3. How Does AI Work?**\\nAI systems rely on:\\n- **Data**: Learning from large datasets to identify patterns.  \\n- **Algorithms**: Mathematical models that process information to make decisions or predictions.  \\n- **Machine Learning (ML)**: A subset of AI where systems improve at tasks through experience (e.g., recognizing images after training on thousands of examples).  \\n- **Deep Learning**: A type of ML using **neural networks** (layers of interconnected nodes) to model complex patterns (e.g., facial recognition or language translation).  \\n\\n---\\n\\n### **4. Applications of AI**\\nAI is used in various fields:\\n- **Healthcare**: Diagnosing diseases, drug discovery, and personalized treatment plans.  \\n- **Finance**: Fraud detection, algorithmic trading, and risk assessment.  \\n- **Transportation**: Autonomous vehicles and traffic management systems.  \\n- **Content Creation**: AI-generated art, music, or writing (e.g., chatbots like myself).  \\n- **Customer Service**: Chatbots and virtual assistants.  \\n\\n---\\n\\n### **5. Key Goals of AI**\\n- **Automation**: Streamlining repetitive tasks (e.g., manufacturing robots).  \\n- **Problem-Solving**: Solving complex problems (e.g., climate modeling or optimizing energy grids).  \\n- **Enhancing Human Capabilities**: Augmenting human decision-making (e.g., doctors using AI to analyze medical scans).  \\n\\n---\\n\\n### **6. Challenges & Ethics**\\n- **Ethical Concerns**:  \\n  - **Bias**: AI systems can inherit biases from training data, leading to unfair outcomes (e.g., hiring algorithms favoring certain groups).  \\n  - **Privacy**: Use of personal data raises concerns about surveillance and misuse.  \\n  - **Job Displacement**: Automation may disrupt certain industries, requiring social adaptation.  \\n- **Solutions**: Researchers and policymakers focus on developing **ethical AI frameworks** for fairness, transparency, and accountability.\\n\\n---\\n\\n### **In Short**  \\nAI is about empowering machines to \"think\" and act intelligently. While current AI is limited to specialized tasks, its potential to revolutionize industries is vast. As the field grows, balancing innovation with ethical responsibility remains crucial.\\n\\nLet me know if you\\'d like deeper insights into any of these areas! 😊', additional_kwargs={}, response_metadata={'token_usage': {'completion_tokens': 1392, 'prompt_tokens': 13, 'total_tokens': 1405, 'completion_time': 3.22840731, 'prompt_time': 0.002729308, 'queue_time': 0.0015154889999999996, 'total_time': 3.231136618}, 'model_name': 'qwen-qwq-32b', 'system_fingerprint': 'fp_a91d9c2cfb', 'finish_reason': 'stop', 'logprobs': None}, id='run--32ce4e22-a918-4705-8c18-6aa2e077fd49-0', usage_metadata={'input_tokens': 13, 'output_tokens': 1392, 'total_tokens': 1405})"
      ]
     },
     "execution_count": 18,
     "metadata": {},
     "output_type": "execute_result"
    }
   ],
   "source": [
    "llm.invoke(\"What is AI\")"
   ]
  },
  {
   "cell_type": "code",
   "execution_count": 20,
   "id": "25106b3c",
   "metadata": {},
   "outputs": [],
   "source": [
    "llm_with_tools = llm.bind_tools(tools=tools)"
   ]
  },
  {
   "cell_type": "code",
   "execution_count": 21,
   "id": "d4549989",
   "metadata": {},
   "outputs": [
    {
     "data": {
      "text/plain": [
       "AIMessage(content='', additional_kwargs={'reasoning_content': 'Okay, the user is asking for recent news on AI. I need to figure out which tool to use here. Let me check the available functions again. There\\'s arxiv, wikipedia, and tavily_search_results_json. \\n\\nArxiv is for academic papers, so maybe not the best for recent news. Wikipedia is for encyclopedic info, which also might not be the most current. Tavily\\'s search results, though, are supposed to provide up-to-date information. That seems right for \"recent news.\"\\n\\nI should make sure the query is phrased correctly. The user wants recent news, so the query parameters should include terms like \"latest\" or \"recent\" to get the most current articles. Let me structure the tool call with Tavily\\'s function and a query like \"recent news on AI\" to capture the latest developments. \\n\\nDouble-checking the function parameters: the tavily_search_results_json requires a \"query\" parameter. Yep, that\\'s covered. Alright, I\\'ll format the tool call correctly in JSON inside the XML tags.\\n', 'tool_calls': [{'id': '5ab22xbw2', 'function': {'arguments': '{\"query\":\"recent news on AI\"}', 'name': 'tavily_search_results_json'}, 'type': 'function'}]}, response_metadata={'token_usage': {'completion_tokens': 247, 'prompt_tokens': 269, 'total_tokens': 516, 'completion_time': 0.575712158, 'prompt_time': 0.017622404, 'queue_time': 0.057104625, 'total_time': 0.593334562}, 'model_name': 'qwen-qwq-32b', 'system_fingerprint': 'fp_a91d9c2cfb', 'finish_reason': 'tool_calls', 'logprobs': None}, id='run--40d9734b-9ed6-461e-abc8-4d225234847a-0', tool_calls=[{'name': 'tavily_search_results_json', 'args': {'query': 'recent news on AI'}, 'id': '5ab22xbw2', 'type': 'tool_call'}], usage_metadata={'input_tokens': 269, 'output_tokens': 247, 'total_tokens': 516})"
      ]
     },
     "execution_count": 21,
     "metadata": {},
     "output_type": "execute_result"
    }
   ],
   "source": [
    "llm_with_tools.invoke(\"What is the recent news on AI\")"
   ]
  },
  {
   "cell_type": "code",
   "execution_count": 22,
   "id": "94403d34",
   "metadata": {},
   "outputs": [
    {
     "data": {
      "text/plain": [
       "AIMessage(content='', additional_kwargs={'reasoning_content': 'Okay, the user is asking about the latest research on quantum computing. I need to figure out which tool to use here. Let me look at the available functions again. There\\'s arxiv, which is for academic papers, especially in physics and computer science. Since quantum computing is a hot topic in research, Arxiv might be the best source for the latest preprints. The other options are Wikipedia and Tavily search. Wikipedia would give a general overview but not the latest research. Tavily might give some web results, but Arxiv is more specialized and likely to have recent studies. So I should call the arxiv function with a query like \"quantum computing\" to get the most recent papers. Let me make sure the parameters are correct. The arxiv function requires a \"query\" parameter, so I\\'ll structure the tool call accordingly. Alright, that should fetch the latest research papers for the user.\\n', 'tool_calls': [{'id': 'hsbv9afhg', 'function': {'arguments': '{\"query\":\"quantum computing\"}', 'name': 'arxiv'}, 'type': 'function'}]}, response_metadata={'token_usage': {'completion_tokens': 210, 'prompt_tokens': 270, 'total_tokens': 480, 'completion_time': 0.482674172, 'prompt_time': 0.022114461, 'queue_time': 0.0027289270000000025, 'total_time': 0.504788633}, 'model_name': 'qwen-qwq-32b', 'system_fingerprint': 'fp_a91d9c2cfb', 'finish_reason': 'tool_calls', 'logprobs': None}, id='run--affeff6c-63ce-4175-b5ec-dc56a998f39b-0', tool_calls=[{'name': 'arxiv', 'args': {'query': 'quantum computing'}, 'id': 'hsbv9afhg', 'type': 'tool_call'}], usage_metadata={'input_tokens': 270, 'output_tokens': 210, 'total_tokens': 480})"
      ]
     },
     "execution_count": 22,
     "metadata": {},
     "output_type": "execute_result"
    }
   ],
   "source": [
    "llm_with_tools.invoke(\"What is the latest research on quantum computing\")"
   ]
  },
  {
   "cell_type": "code",
   "execution_count": 23,
   "id": "64d49426",
   "metadata": {},
   "outputs": [
    {
     "data": {
      "text/plain": [
       "AIMessage(content='', additional_kwargs={'reasoning_content': 'Okay, the user is asking \"What is machine learning?\" I need to figure out which tool to use here. Let me look at the available functions again. There\\'s arxiv for academic papers, Wikipedia for general information, and Tavily for search results.\\n\\nHmm, the user probably wants a general explanation. Wikipedia is good for that since it provides clear, foundational definitions. The Wikipedia function requires a query parameter. The term \"machine learning\" should be the query here. Let me check if there\\'s a Wikipedia page on Machine Learning. Yes, there\\'s a well-known article on that exact topic. \\n\\nAlternatively, maybe using Tavily could give a broader range of sources, but since the question is pretty straightforward, Wikipedia should suffice. The arXiv might be more detailed but is more academic and could include very specific research topics rather than a basic explanation. \\n\\nSo, the best choice is the Wikipedia function with the query \"machine learning\". That should retrieve the standard definition and key points about machine learning for the user.\\n', 'tool_calls': [{'id': 'j421156jq', 'function': {'arguments': '{\"query\":\"machine learning\"}', 'name': 'wikipedia'}, 'type': 'function'}]}, response_metadata={'token_usage': {'completion_tokens': 231, 'prompt_tokens': 266, 'total_tokens': 497, 'completion_time': 0.535906425, 'prompt_time': 0.03318412, 'queue_time': 0.0026144400000000026, 'total_time': 0.569090545}, 'model_name': 'qwen-qwq-32b', 'system_fingerprint': 'fp_a91d9c2cfb', 'finish_reason': 'tool_calls', 'logprobs': None}, id='run--9bef37ce-2969-41e5-a610-6acd8a27e349-0', tool_calls=[{'name': 'wikipedia', 'args': {'query': 'machine learning'}, 'id': 'j421156jq', 'type': 'tool_call'}], usage_metadata={'input_tokens': 266, 'output_tokens': 231, 'total_tokens': 497})"
      ]
     },
     "execution_count": 23,
     "metadata": {},
     "output_type": "execute_result"
    }
   ],
   "source": [
    "llm_with_tools.invoke(\"What is machine learning\")"
   ]
  },
  {
   "cell_type": "code",
   "execution_count": 24,
   "id": "0c328ccf",
   "metadata": {},
   "outputs": [],
   "source": [
    "##State Schema\n",
    "from typing_extensions import TypedDict\n",
    "from langchain_core.messages import AnyMessage\n",
    "from typing import Annotated\n",
    "from langgraph.graph.message import add_messages"
   ]
  },
  {
   "cell_type": "code",
   "execution_count": 25,
   "id": "9612f7c3",
   "metadata": {},
   "outputs": [],
   "source": [
    "class State(TypedDict):\n",
    "    messages: Annotated[list[AnyMessage], add_messages]\n",
    "    "
   ]
  },
  {
   "cell_type": "code",
   "execution_count": 26,
   "id": "5232221d",
   "metadata": {},
   "outputs": [],
   "source": [
    "from IPython.display import Image, display\n",
    "from langgraph.graph import StateGraph, START, END\n",
    "from langgraph.prebuilt import ToolNode\n",
    "from langgraph.prebuilt import tools_condition"
   ]
  },
  {
   "cell_type": "code",
   "execution_count": 28,
   "id": "48ca4d62",
   "metadata": {},
   "outputs": [
    {
     "data": {
      "image/png": "[encoded data removed]",
      "text/plain": [
       "<IPython.core.display.Image object>"
      ]
     },
     "metadata": {},
     "output_type": "display_data"
    }
   ],
   "source": [
    "def tool_calling_llm(state:State):\n",
    "    return {\"messages\": [llm_with_tools.invoke(state[\"messages\"])]}\n",
    "\n",
    "builder = StateGraph(State)\n",
    "builder.add_node(\"tool_calling_llm\", tool_calling_llm)\n",
    "builder.add_node(\"tools\", ToolNode(tools))\n",
    "\n",
    "builder.add_edge(START, \"tool_calling_llm\")\n",
    "builder.add_conditional_edges(\n",
    "    \"tool_calling_llm\",\n",
    "    tools_condition,\n",
    ")\n",
    "builder.add_edge(\"tools\", END)\n",
    "\n",
    "graph = builder.compile()\n",
    "display(Image(graph.get_graph().draw_mermaid_png()))"
   ]
  },
  {
   "cell_type": "code",
   "execution_count": 34,
   "id": "002eda2b",
   "metadata": {},
   "outputs": [
    {
     "name": "stdout",
     "output_type": "stream",
     "text": [
      "================================\u001b[1m Human Message \u001b[0m=================================\n",
      "\n",
      "What is the latest news on AI and then tell me what is the latest research paper on AI.\n",
      "==================================\u001b[1m Ai Message \u001b[0m==================================\n",
      "Tool Calls:\n",
      "  tavily_search_results_json (jnh5d5373)\n",
      " Call ID: jnh5d5373\n",
      "  Args:\n",
      "    query: latest news on AI\n",
      "  arxiv (c0astghcj)\n",
      " Call ID: c0astghcj\n",
      "  Args:\n",
      "    query: latest research paper on AI\n",
      "=================================\u001b[1m Tool Message \u001b[0m=================================\n",
      "Name: tavily_search_results_json\n",
      "\n",
      "[{\"title\": \"Latest AI Technology, Artificial Intelligence News and Updates - Mint\", \"url\": \"https://www.livemint.com/ai\", \"content\": \"![Advanced Micro Devices (AMD) has revealed its next major push into artificial intelligence hardware, unveiling a new AI server platform called Helios, designed to challenge Nvidia’s dominance in the sector.](https://www.livemint.com/lm-img/static/1yr/1x1_img.webp \\\"AMD’s Helios Server launch signals bold challenge to Nvidia’s AI supremacy, backed by OpenAI and Crusoe\\\") [...] ![Ola Group's AI company Krutrim is set to launch its own agentic AI assistant dubbed ‘Kruti’ on June 12. (Krutrim)](https://www.livemint.com/lm-img/static/1yr/1x1_img.webp \\\"Bhavish Agarwal's AI company Krutrim to launch AI assistant and chatbot ‘Kruti’ on June 12 — all we know so far\\\") [...] ## [From killer drones to robotaxis, sci-fi dreams are coming to life](/ai/artificial-intelligence/elon-musk-robotaxis-mark-zuckerberg-metaverse-sam-altman-openai-palmer-luckey-anduril-daniel-ek-helsing-11750502125495.html)\", \"score\": 0.74385756}, {\"title\": \"AI News & Artificial Intelligence - TechCrunch\", \"url\": \"https://techcrunch.com/category/artificial-intelligence/\", \"content\": \"![](https://techcrunch.com/wp-content/uploads/2024/09/tc-lockup.svg)\\n![](https://techcrunch.com/wp-content/uploads/2024/09/tc-logo-mobile.svg)\\n\\n### Topics\\n\\n[Latest](/latest/)\\n\\n[AI](/category/artificial-intelligence/)\\n\\n[Amazon](/tag/amazon/)\\n\\n[Apps](/category/apps/)\\n\\n[Biotech & Health](/category/biotech-health/)\\n\\n[Climate](/category/climate/)\\n\\n[Cloud Computing](/tag/cloud-computing/)\\n\\n[Commerce](/category/commerce/)\\n\\n[Crypto](/category/cryptocurrency/)\\n\\n[Enterprise](/category/enterprise/) [...] ### [Four months after a $3B valuation, Harvey AI grows to $5B](https://techcrunch.com/2025/06/23/four-months-after-a-3b-valuation-harvey-ai-grows-to-5b/)\\n\\n![Amazon event](https://techcrunch.com/wp-content/uploads/2025/02/1000002054.jpg?w=499)\\n\\n### [Over a million people now have access to the gen-AI powered Alexa+](https://techcrunch.com/2025/06/23/over-a-million-people-now-have-access-to-the-gen-ai-powered-alexa/) [...] ### [Google adds AI features to Chromebook Plus devices](https://techcrunch.com/2025/06/23/google-adds-ai-features-to-chromebook-plus-devices/)\\n\\n![Sam Altman and Jony Ive](https://techcrunch.com/wp-content/uploads/2025/05/portrait.jpg?w=500)\\n\\n### [OpenAI pulls promotional materials around Jony Ive deal due to court order](https://techcrunch.com/2025/06/22/openai-pulls-promotional-materials-around-jony-ive-deal/)\", \"score\": 0.7099254}, {\"title\": \"artificial intelligence news - Technology - The Indian Express\", \"url\": \"https://indianexpress.com/section/technology/artificial-intelligence/\", \"content\": \"![An illustrative image showing artificial intelligence chatbot DeepSeek on a smartphone in San Francisco, March 21, 2025. In September of last year, Open AI released a new “reasoning” version of its ChatGPT chatbot that was designed to spend time “thinking” through complex problems before settling on an answer. Now other companies like Google, Anthropic and China’s DeepSeek offer similar technologies. (Kelsey McClellan/The New York [...] ###### [Jun 24: Latest News](/latest-news/) [...] ![Jensen Huang, CEO of Nvidia, gestures as he speaks during the Viva Technology conference dedicated to innovation and startups at Porte de Versailles exhibition center in Paris, France, June 11, 2025. (File Photo: Reuters/Gonzalo Fuentes)](https://indianexpress.com/wp-content/themes/indianexpress/images/default-ie.jpg)\", \"score\": 0.7092009}, {\"title\": \"AI News | Latest Headlines and Developments | Reuters\", \"url\": \"https://www.reuters.com/technology/artificial-intelligence/\", \"content\": \"![Artificial Intelligence silicon chip with Reuters logo](https://www.reuters.com/resizer/v2/GSJJBHD7P5CDRODH727CQTOFUU.jpg?auth=943259dbe714440e27bb4882335b2f9eaddc87e4324f635b849474cfc8b61339&height=480&width=480&quality=80&smart=true)\\n\\nEvent\\n\\n29-30 Sep 2025 · London, UK [...] ![Artificial Intelligence Chip with Reuters logo](https://www.reuters.com/resizer/v2/GKT2AROG7VC4PGQUWJ4NHDDUSQ.jpg?auth=fa1702fc494037c9d1294fe9384981105e099c5b3f43b67f26d3b6e8ccc0f367&height=480&width=480&quality=80&smart=true)\\n\\nEvent\\n\\n17 Sep 2025 · Singapore, USA [...] ![Reuters Events Logo](https://www.reuters.com/resizer/v2/2MUGKQKIJZBRFAU2BGHBDSHJUM.png?auth=90f94c781dedbcfa2eef25852f00fe8491e754277b34e723f798e8c1e78ce3c7&width=480&quality=80)\\n\\nEvent\\n\\n28-29 Apr 2025 · New York, USA\\n\\n![Artificial Intelligence silicon chip with Reuters logo](https://www.reuters.com/resizer/v2/GSJJBHD7P5CDRODH727CQTOFUU.jpg?auth=943259dbe714440e27bb4882335b2f9eaddc87e4324f635b849474cfc8b61339&height=480&width=480&quality=80&smart=true)\\n\\nEvent\\n\\n15-16 Jul 2025 · San Jose, USA\", \"score\": 0.70483154}, {\"title\": \"Artificial Intelligence (AI) News Updates - The Economic Times\", \"url\": \"https://m.economictimes.com/tech/artificial-intelligence\", \"content\": \"SoftBank is considering acquiring Indian IT and BPO firms to integrate AI, moving beyond its traditional investment approach. It aims to enhance these firms with AI, driving efficiency and revenue growth. While a deal with AGS Health didn't materialize, SoftBank is exploring other opportunities, aligning with its global AI infrastructure initiatives like The Stargate Project and Cristal Intelligence. [...] Some cloud service providers like Yotta and NextGen have made significant headways in installing and commissioning GPUs, while Jio Platforms and CtrlS Datacenters are facing delays. The mission aims to build a scalable cloud platform. It will help researchers and startups train AI models. The government incentivizes local LLM development. More GPU installations are expected soon. [...] AI is revolutionising India’s healthcare by easing doctor workloads, enhancing diagnostics, and streamlining care. Major hospital chains and startups are using AI for early detection, IVF, cancer genomics, and ICU monitoring. Despite funding growth and rising adoption, challenges persist in data governance, cost, and system readiness for mass deployment.\", \"score\": 0.6932451}]\n",
      "=================================\u001b[1m Tool Message \u001b[0m=================================\n",
      "Name: arxiv\n",
      "\n",
      "Published: 2021-04-27\n",
      "Title: Enabling AI in Future Wireless Networks: A Data Life Cycle Perspective\n",
      "Authors: Dinh C. Nguyen, Peng Cheng, Ming Ding, David Lopez-Perez, Pubudu N. Pathirana, Jun Li, Aruna Seneviratne, Yonghui Li, H. Vincent Poor\n",
      "Summary: Recent years have seen rapid deployment of mobile computing and Internet of\n",
      "Things (IoT) networks, which can be mostly attributed to the increasing\n",
      "communication and sensing capabilities of wireless systems. Big data analysis,\n",
      "pervasive computing, \n"
     ]
    }
   ],
   "source": [
    "messages = graph.invoke({\"messages\":\"What is the latest news on AI and then tell me what is the latest research paper on AI.\"})\n",
    "for m in messages['messages']:\n",
    "    m.pretty_print()\n"
   ]
  }
 ],
 "metadata": {
  "kernelspec": {
   "display_name": "venv",
   "language": "python",
   "name": "python3"
  },
  "language_info": {
   "codemirror_mode": {
    "name": "ipython",
    "version": 3
   },
   "file_extension": ".py",
   "mimetype": "text/x-python",
   "name": "python",
   "nbconvert_exporter": "python",
   "pygments_lexer": "ipython3",
   "version": "3.10.18"
  }
 },
 "nbformat": 4,
 "nbformat_minor": 5
}
